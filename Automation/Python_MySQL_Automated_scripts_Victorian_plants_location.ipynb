{
 "cells": [
  {
   "cell_type": "code",
   "execution_count": 1,
   "metadata": {},
   "outputs": [],
   "source": [
    "import pymysql\n",
    "pymysql.install_as_MySQLdb()\n",
    "import MySQLdb\n",
    "import pymysql\n",
    "import MySQLdb\n",
    "import csv"
   ]
  },
  {
   "cell_type": "code",
   "execution_count": 2,
   "metadata": {},
   "outputs": [],
   "source": [
    "conn = MySQLdb.connect(host='www.plantabee.tk',\n",
    "                             user='root',\n",
    "                             password='Plantabee@monash',\n",
    "                             db='plantabee')"
   ]
  },
  {
   "cell_type": "code",
   "execution_count": 3,
   "metadata": {},
   "outputs": [],
   "source": [
    "cursor = conn.cursor()"
   ]
  },
  {
   "cell_type": "code",
   "execution_count": 4,
   "metadata": {},
   "outputs": [],
   "source": [
    "dlist = []\n",
    "with open(\"Victoria_plants.csv\", encoding='utf-8') as f:\n",
    "    data = csv.reader(f)\n",
    "    for row in data:\n",
    "        dlist.append(row)\n"
   ]
  },
  {
   "cell_type": "code",
   "execution_count": 8,
   "metadata": {},
   "outputs": [],
   "source": [
    "#query = \"\"\"INSERT INTO victorian_plants(Scientific_Name_Original,Common_name,Scientific_Name,Latitude,Longitude,rowid) VALUES (%s, %s, %s, %s,%s, %s)\"\"\"\n",
    "\n",
    "query = \"\"\"INSERT INTO victorian_plants_location(Scientific_Name_Original,Common_name,Scientific_Name,Taxon_Rank,Kingdom,Phylum,Class,Family,Genus,Species,Latitude,Longitude,Country,State,Year,Event_Date,month,day,rowid,Suburbs,Postcode) VALUES (%s, %s, %s, %s,%s, %s, %s, %s, %s, %s,%s, %s,%s, %s, %s, %s,%s, %s,%s,%s,%s)\"\"\"\n",
    "\n",
    "\n"
   ]
  },
  {
   "cell_type": "code",
   "execution_count": 9,
   "metadata": {},
   "outputs": [],
   "source": [
    "cursor.execute(\"\"\"TRUNCATE TABLE victorian_plants_location\"\"\")\n",
    "\n",
    "for i in range(1, len(dlist)):\n",
    "    Scientific_Name_Original = dlist[i][0]\n",
    "    Common_name = dlist[i][1]\n",
    "    Scientific_Name = dlist[i][2]\n",
    "    Taxon_Rank = dlist[i][3]\n",
    "    Kingdom = dlist[i][4]\n",
    "    Phylum = dlist[i][5]\n",
    "    Class = dlist[i][6]\n",
    "    Family = dlist[i][7]\n",
    "    Genus = dlist[i][8]\n",
    "    Species = dlist[i][9]\n",
    "    Latitude = dlist[i][10]\n",
    "    Longitude = dlist[i][11]\n",
    "    Country = dlist[i][12]\n",
    "    State = dlist[i][13]\n",
    "    Year = dlist[i][14]\n",
    "    Event_Date = dlist[i][15]\n",
    "    month = dlist[i][16]\n",
    "    day = dlist[i][17]\n",
    "    rowid = dlist[i][18]\n",
    "    Suburbs = dlist[i][19]\n",
    "    Postcode = dlist[i][20]\n",
    "    \n",
    "    values = (Scientific_Name_Original,Common_name,Scientific_Name,Taxon_Rank,Kingdom,Phylum,Class,Family,Genus,Species,Latitude,Longitude,Country,State,Year,Event_Date,month,day,rowid,Suburbs,Postcode)\n",
    "    \n",
    "    cursor.execute(query, values)\n",
    "    \n",
    "cursor.close()\n",
    "\n",
    "conn.commit()"
   ]
  },
  {
   "cell_type": "code",
   "execution_count": 10,
   "metadata": {},
   "outputs": [],
   "source": [
    "del dlist[0]"
   ]
  },
  {
   "cell_type": "code",
   "execution_count": 11,
   "metadata": {},
   "outputs": [
    {
     "name": "stdout",
     "output_type": "stream",
     "text": [
      "Total 21 columns and 7670 rows were imported successfully\n"
     ]
    }
   ],
   "source": [
    "print(\"Total\" + \" \" + str(len(dlist[0])) + \" columns and \" + str(len(dlist))+ \" rows were imported successfully\")"
   ]
  },
  {
   "cell_type": "code",
   "execution_count": null,
   "metadata": {},
   "outputs": [],
   "source": []
  }
 ],
 "metadata": {
  "kernelspec": {
   "display_name": "Python 3",
   "language": "python",
   "name": "python3"
  },
  "language_info": {
   "codemirror_mode": {
    "name": "ipython",
    "version": 3
   },
   "file_extension": ".py",
   "mimetype": "text/x-python",
   "name": "python",
   "nbconvert_exporter": "python",
   "pygments_lexer": "ipython3",
   "version": "3.6.4"
  }
 },
 "nbformat": 4,
 "nbformat_minor": 2
}
