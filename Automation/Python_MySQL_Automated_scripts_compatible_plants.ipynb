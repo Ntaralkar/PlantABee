{
 "cells": [
  {
   "cell_type": "code",
   "execution_count": 1,
   "metadata": {},
   "outputs": [],
   "source": [
    "import pymysql\n",
    "pymysql.install_as_MySQLdb()\n",
    "import MySQLdb\n",
    "import pymysql\n",
    "import MySQLdb\n",
    "import csv"
   ]
  },
  {
   "cell_type": "code",
   "execution_count": 2,
   "metadata": {},
   "outputs": [],
   "source": [
    "conn = MySQLdb.connect(host='www.plantabee.tk',\n",
    "                             user='root',\n",
    "                             password='Plantabee@monash',\n",
    "                             db='plantabee')"
   ]
  },
  {
   "cell_type": "code",
   "execution_count": 3,
   "metadata": {},
   "outputs": [],
   "source": [
    "cursor = conn.cursor()"
   ]
  },
  {
   "cell_type": "code",
   "execution_count": 4,
   "metadata": {},
   "outputs": [],
   "source": [
    "dlist = []\n",
    "with open(\"compatible_plants.csv\", encoding='utf-8') as f:\n",
    "    data = csv.reader(f)\n",
    "    for row in data:\n",
    "        dlist.append(row)\n"
   ]
  },
  {
   "cell_type": "code",
   "execution_count": 14,
   "metadata": {},
   "outputs": [],
   "source": [
    "query = \"\"\"INSERT INTO compatible_plants(rowid, Botanical_name, Common_name, Compatible_plants) VALUES (%s, %s, %s, %s)\"\"\""
   ]
  },
  {
   "cell_type": "code",
   "execution_count": 15,
   "metadata": {},
   "outputs": [],
   "source": [
    "cursor.execute(\"\"\"TRUNCATE TABLE compatible_plants\"\"\")\n",
    "\n",
    "for i in range(1, len(dlist)):\n",
    "    id = dlist[i][0]\n",
    "    Botanical_name = dlist[i][1]\n",
    "    Common_name = dlist[i][2]\n",
    "    Compatible_plants = dlist[i][3]\n",
    "    \n",
    "    values = (id, Botanical_name, Common_name, Compatible_plants)\n",
    "    \n",
    "    cursor.execute(query, values)\n",
    "    \n",
    "cursor.close()\n",
    "\n",
    "conn.commit()"
   ]
  },
  {
   "cell_type": "code",
   "execution_count": 16,
   "metadata": {},
   "outputs": [],
   "source": [
    "del dlist[0]"
   ]
  },
  {
   "cell_type": "code",
   "execution_count": 17,
   "metadata": {},
   "outputs": [
    {
     "name": "stdout",
     "output_type": "stream",
     "text": [
      "Total 4 columns and 161 rows were imported successfully\n"
     ]
    }
   ],
   "source": [
    "print(\"Total\" + \" \" + str(len(dlist[0])) + \" columns and \" + str(len(dlist))+ \" rows were imported successfully\")"
   ]
  },
  {
   "cell_type": "code",
   "execution_count": null,
   "metadata": {},
   "outputs": [],
   "source": []
  }
 ],
 "metadata": {
  "kernelspec": {
   "display_name": "Python 3",
   "language": "python",
   "name": "python3"
  },
  "language_info": {
   "codemirror_mode": {
    "name": "ipython",
    "version": 3
   },
   "file_extension": ".py",
   "mimetype": "text/x-python",
   "name": "python",
   "nbconvert_exporter": "python",
   "pygments_lexer": "ipython3",
   "version": "3.6.4"
  }
 },
 "nbformat": 4,
 "nbformat_minor": 2
}
