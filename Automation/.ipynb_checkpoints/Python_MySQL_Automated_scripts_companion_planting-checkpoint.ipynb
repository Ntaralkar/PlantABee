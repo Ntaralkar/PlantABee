{
 "cells": [
  {
   "cell_type": "code",
   "execution_count": 28,
   "metadata": {},
   "outputs": [],
   "source": [
    "import pymysql\n",
    "pymysql.install_as_MySQLdb()\n",
    "import MySQLdb\n",
    "import pymysql\n",
    "import MySQLdb\n",
    "import csv"
   ]
  },
  {
   "cell_type": "code",
   "execution_count": 29,
   "metadata": {},
   "outputs": [],
   "source": [
    "conn = MySQLdb.connect(host='www.plantabee.tk',\n",
    "                             user='root',\n",
    "                             password='Plantabee@monash',\n",
    "                             db='plantabee')"
   ]
  },
  {
   "cell_type": "code",
   "execution_count": 21,
   "metadata": {},
   "outputs": [],
   "source": [
    "cursor = conn.cursor()"
   ]
  },
  {
   "cell_type": "code",
   "execution_count": 22,
   "metadata": {},
   "outputs": [],
   "source": [
    "dlist = []\n",
    "with open(\"Beeplants_final_data.csv\", encoding='utf-8') as f:\n",
    "    data = csv.reader(f)\n",
    "    for row in data:\n",
    "        dlist.append(row)\n"
   ]
  },
  {
   "cell_type": "code",
   "execution_count": 23,
   "metadata": {},
   "outputs": [
    {
     "name": "stdout",
     "output_type": "stream",
     "text": [
      "Abelia grandiflora is a deciduous or semi evergreen multistemmed shrub with rounded spreading  or gracefully arching branches to 1.0-1.8 m tall.The leaves are ovate  glossy dark green  and 2–6 cm long. The flowers are produced in clusters  white  tinged pink  bell-shaped  to 2 cm long. Unlike most flowering shrubs in cultivation  the species blooms from late summer to well into the autumn.\n",
      "\n",
      "Acacia baileyana is a small evergreen tree with domed canopy  it is fast growing but short lived (8 - 15 years). Fast growth rate. A widely planted, hardy attractive acacia. The bark on the trunk and branches is smooth, grey to brown. The silver grey bipinnate leaves to 3 x 1 cm are characteristic. Flowers are in bright-yellow globular heads, in elongated showy racemes. Propagate from seed.\n",
      "\n",
      "A moderately fast growing attractive acacia. The bark is corrugated, dark greyish– brown to black on the trunk. The leaf-like phyllodes are dark green, thick, semiglossy, linear, flat and mostly straight or slightly curved to 7–20 cm x 8–10 mm with a curved tip. The bright yellow flowers are arranged in crowded cylindrical spikes. Propagate by scarified seed.\n",
      "\n",
      "A hardy and easy care small shrub growing to around a metre and a half high and wide  it has mauve-purple large flowers from spring through to autumn. It is dense growing and suitable for low hedging and screening as well as containers. It responds well to a frequent light prune  which should be done after flowering  and it can be shaped to size. Frost hardy  it does well in cool temperate to sub-tropical climates  in well drained soils and sun to part shade.\n",
      "\n",
      "Handsome  erect fast growing  tree with slightly pitted smooth pink new bark. Better suited to larger gardens and parks. Will grow in most well drained soils. Has been known to lose branches in high winds\n",
      "\n",
      "Banksia integrifolia  commonly known as coast banksia  is a species of tree that grows along the east coast of Australia. One of the most widely distributed Banksia species  it occurs between Victoria and Central Queensland in a broad range of habitats  from coastal dunes to mountains.\n",
      "\n",
      "Banksia serrata  commonly known as old man banksia  saw banksia  saw-tooth banksia and red honeysuckle  is a species of woody shrub or tree of the genus Banksia in the family Proteaceae\n",
      "\n",
      "The hairpin banksia is a species of woody shrub  of the genus Banksia in the family Proteaceae  native to eastern Australia. Widely distributed  it is found as an understorey plant in open dry forest or heathland from Victoria to northern Queensland  generally on sandstone though sometimes also clay soils\n",
      "\n",
      "Borago officinalis also known as a starflower  is an annual herb in the flowering plant family Boraginaceae. It is native to the Mediterranean region and has naturalized in many other locales.It grows satisfactorily in gardens in the UK climate  remaining in the garden from year to year by self-seeding. The leaves are edible and the plant is grown in gardens for that purpose in some parts of Europe.\n",
      "\n",
      "Melaleuca salicina  commonly known as white bottlebrush or willow bottlebrush  is a plant in the myrtle family  Myrtaceae and is endemic to eastern Australia. It is a shrub or small tree with soft foliage  pink new growth  white papery bark and spikes of usually white or creamy bottlebrush flowers in spring\n",
      "\n",
      "A lovely small sized Callistemon  useful for low hedges and screens  for attracting birds  as well as container growing. It has arching branches with small leaves  on a dense habit. While it is naturally compact  pruning after flowering will encourage an even more neat plant. It produces numerous red flowers from late winter through summer which are loved by nectar feeding wildlife. \n",
      "\n",
      "This species of Callistemon has been widely planted both for its reliability and ornamental weeping habit. Displays masses of red flowers in spring. Its used in a variety of locations including parks  home gardens and streetscapes. Does well in heavier soils and is drought resistant once established. They will tolerate some shade but flower best in full sun.\n",
      "\n",
      "Carpobrotus glaucescens is an evergreen soft wooded perennial native to coastal regions of Eastern Australia. It has succulent stems and fleshy three angled leaves. It has a spreading and prostrate habit. Requires little to no maintenance\n",
      "\n",
      "Medium growth rate. This narrow domed tree has brown to yellow–brown bark  that is tessellated, flaky and persistent on the small branches.  The adult leaves are dull bluish–green. They are thick, leathery, lanceolate and sickle-shaped to 12–20 x 1.3–3.0 cm.  The creamy-white flowers are in a terminal inflorescence. Propagation is from seed\n",
      "\n",
      "Corymbia ficifolia is a spectacular tree with a spreading crown and terminal clusters of bright red to orange flowers during summer. The flowers do not have any petals  it is the many coloured stamen that give the flowers their fluffy appearance. Large urn shaped capsules follow the flowers  these make an attractive addition to a flower arrangement.\n",
      "\n",
      "Ribbons of Hope' is a great new landscaping gum tree with gorgeously variegated foliage- older leaves are green with a broad cream edge  and the new growth is blush pink. A head turning plant  and very hardy for most situations. Good for a broad range of soils  and is cold  heat and drought hardy. It has masses of white flowers in winter and spring  which attract nectar loving birds. It grows to around 12 metres tall  and 5 metres wide. Good for sun to part shade.\n",
      "\n",
      "This large shrub has a rounded dense habit and grows to 5m tall. It is a native to the arid and semi-arid areas of mainland Australia. During winter and spring the plant is covered with lots of small flowers.\n",
      "\n",
      "Fast growing eucalyptus often used as a plantation tree. Grows tall with lower branches shedding to reveal a long clean trunk. Excellent as a high windbreak but needs under planting due to exposed trunks. Flowers attract bees for honey. The smaller E. cladocalyx var. nana Dwarf Sugar Gum grows to a height from 6-12m and is a better choice for smaller spaces.\n",
      "\n",
      "A Mallee with variable habit depending where it is grown. Generally a tall Mallee however can be found as low as 50cm on exposed coastal cliffs. The mallee typically grows to a height of 0.5 to 8 metres (2 to 26 ft) and has smooth bark. The tree blooms between July and September or December to January and produces white to cream-yellow flowers.[3] The concolorous, glossy, olive-green or bluish-green adult leaves have an alternate arrangement.\n",
      "\n",
      "Coastal malllee from Western Australia. Naturally grow on limestone ridges. This very attractive small tree has bright red caps on the fruit that open out to thick sprays of yellow stamens in winter and autumn.\n",
      "\n",
      "Eucalyptus incrassata  commonly known as the lerp mallee  yellow mallee  ridge fruited mallee or rib fruited mallee  is a mallee that is native to southern Australia.\n",
      "\n",
      "Eucalyptus lansdowneana  commonly known as the Crimson mallee or the Red-Flowered mallee box  is a slender stemmed  straggly mallee with smooth grey over creamy-white bark. Adult leaves are stalked  lanceolate to broad lanceolate  to 15 x 3 cm  glossy  green to yellow-green\n",
      "\n",
      "This native tree has a medium to fast growth rate with a broad habit. It has rough bark at the base of the trunk and smooth  cream streaked with grey bark on the upper limbs which sheds. Narrow green leaves offset the beautiful  showy cream  bird attracting flowers from late Autumn to Spring.\n",
      "\n",
      "Eucalyptus microcarpa  or grey box  is a species of Eucalyptus which is endemic to Australia. Alternative common names for this species include gum-topped box  inland grey box  narrow-leaved box  and western grey box.\n",
      "\n",
      "Fast to moderate growth rate. A multi-stemmed mallee form to a small tree with a single stem. It has a spreading, open crown with a characteristic flat top. The bark is black to dark grey, rough and flaky for about half the trunk and then smooth whitish–grey, a strong contrast. The adult leaves are glossy green, narrow lanceolate to 16 x 2.5 cm. It coppices vigorously and responds well to pruning.\n",
      "\n",
      "This species is classified schedule 2  Regulation 24.3 under the Sewerage Act and may be planted in any street or road in any drainage area provided they are not planted closer than 3.5 metres to any sewer main or connection. They should also not be planted closer than 3.5 metres to any sewer pipe in home gardens.\n",
      "\n",
      "A small to medium sized tree  with a spreading habit and beautiful twisted branches with pale green to cream smooth bark with strips of brown when the bark sheds  shiny leaves. It is slow growing but is long lived  and makes a nice specimen tree  for windbreaks and shelter tree for farms. White flowers in spring and summer. A good honey source and the foliage is used for essential oil production  it has a lovely fresh scent. Generally grows to around 4 to 8 metres tall  but can be taller in its natural range. Very cold tolerant  down to -23º C.\n",
      "\n",
      "Moderate growth rate. An often twisted–trunk mallee shrub to small tree. It has a brown, rough, fibrous box-like bark on the trunk and larger branches. It can have smooth green, yellow– brown bark on the upper trunk and branches. The leaves have a characteristically fresh green look, with coarse venation, narrow to broad lanceolate to 12 x 2.5 cm. Buds are club-shaped to 5–7 mm; fruit pear-shaped, 4–6 mm long. The flowers are whitish, and flowering is from September to January\n",
      "\n",
      "Eucalyptus torquata  commonly known as coral gum or Coolgardie gum  is an endemic tree of Western Australia. The species is cultivated for use in gardens and as a street tree\n",
      "\n",
      "Eucalyptus tricarpa  red ironbark  is a species of Eucalyptus which is endemic to Victoria and the South Coast of New South Wales in Australia. It is a tall  straight-trunked tree that usually grows to between 25 and 35 metres in height\n",
      "\n",
      "Fast growing Eucalyptus with a dense rounded form. Can be used in smaller gardens or in streetscapes and parks. Useful as a shade or windbreak tree. Can handle alkaline soils  as well as exposed coastal locations. \n",
      "\n",
      "This plant can either be a shrub or small tree with either one or many trunks.  The leaves are narrow and usually dark  intense  lustreless green.  Grows in areas of low rainfall and high Summer temperatures and few Winter frosts.  Creamy-white flowers appear in varying times in Australia from Spring to Summer and return in June\n",
      "\n",
      "Gazania is a perennial daisy with a tuft of basal leaves. The leaves vary from narrowly elliptic and entire to deeply lobed  5-10 cm long x 3-20 mm wide  dark green on the upper surface and white-hairy on the lower surface. The colourful flower heads vary from yellow to orange or red and are 5-9 cm across. The outer florets have a spreading petal-like blades 3-4 cm long  while the yellow inner florets are tiny and tubular in shape. The fruits are tiny and are topped by narrow scales and hairs.\n",
      "\n",
      " A beautiful, pendulous shrub of symmetrical form with rough, fissured bark and dark green to yellowish–green linear leaves to 20 x 1 cm, aromatic when crushed. The small flowers are citrus-like, waxy white and star-shaped in terminal clusters, flowering from spring through to summer. The fruit is an inconspicuous, oval, hard nut to 7 mm. Foliage becomes a very dark green when grown in partial shade. Difficult to propagate from seed and cuttings but, once established, it is extremely hardy. \n",
      "\n",
      "This species is a spreading  or occasionally prostrate  shrub and ranges between 0.3 and 2.5 metres in height. Its leaves are entire  oblong-elliptic to linear  and are 1.5 to 6 cm long and 3 to 15 mm in width. The flowers range in colour from a dull to golden yellow and have a red to orange-red style. They are most prolific between early winter and early summer.\n",
      "\n",
      "Grevillea montis-cole is a shrub which is endemic to central-western Victoria, Australia. It has similarities in appearance to Grevillea microstegia, Grevillea floripendula and Grevillea aquifolium but has larger floral bracts.\n",
      "\n",
      "Grevillea robusta is one of Australia's most spectacular trees growing tall and thick with fern like rich green leaves with silvery undersides. It is famed for its deep golden large flowers that appear in spring in amazing profusion.\n",
      "\n",
      "A small tree or large evergreen shrub with leathery, grey/green, narrow leaves and wonderful, globular, pincushion-like flowers of red and cream that appear during winter and spring. They are fragrant and make good cut flowers. Because it is dense and fast growing it makes a good hedge or screen and the leaves turn to red before dropping off.\n",
      "\n",
      "This attractive hardy native provides very useful cover on a trellis or a fence as a groundcover or even in a pot. It has oblong heart-shaped leaves from 4 to 15 cm long with prominent veins. Small and delicate, rich mauve–purple flowers appear from early spring. The lanceolate leaves are glossy dark green, with prominent veins to 10 cm. Plant should be cut back after flowering to prevent it becoming too woody and maintain its vigour. It is best to select from the same climatic region, to ensure the greatest vigour and best flowering. \n",
      "\n",
      "Jacaranda mimosifolia A spectacular semi-deciduous to deciduous tree grown for its wonderful display of purple blue flowers in mid-spring to early summer. It has delicate, bright green, Mimosa like foliage with its large compound leaves made up of narrow leaflets. These begin to fall in late winter/early spring and most will have fallen before the flowers begin to open.\n",
      "\n",
      "Lavandula (common name lavender) is a genus of 47 known species of flowering plants in the mint family  Lamiaceae. Lavender is a cool-climate perennial herb famous for its perfume. French lavender  L. dentata  is advisable for the subtropics as it handles humidity. Flowers are densely clustered on spikes above the grey–green foliage. They should be pruned back after flowering. Propagation by division or cuttings.\n",
      "\n",
      "Leptecophylla juniperina is a species of flowering plant in the family Ericaceae. The species is native to New Zealand and the Australian states of Tasmania and Victoria. The plant's fruit is edible  raw or cooked. Plants grow best in areas with moderate winters and cool moist summers.\n",
      "\n",
      "Lobularia maritima  commonly called sweet alyssum  is one of the easiest annuals to grow. It is a mat-forming plant that produces spreading mounds of well-branched stems clad with linear  lance-shaped  gray-green leaves (to 1” long). Plants typically grow 3-9” tall to 12” wide.\n",
      "\n",
      "Macadamia is an evergreen genus that grows 2–12 m (7–40 ft) tall. The leaves are arranged in whorls of three to six, lanceolate to obovate or elliptic in shape, 60–300 mm (2–10 in) long and 30–130 mm (1–5 in) broad, with an entire or spiny-serrated margin. The flowers are produced in a long, slender, simple raceme 50–300 mm (2–10 in) long, the individual flowers 10–15 mm (0.4–0.6 in) long, white to pink or purple, with four tepals. The fruit is a hard, woody, globose follicle with a pointed apex, containing one or two seeds.\n",
      "\n",
      "An apple is a sweet  edible fruit produced by an apple tree. Apple trees are cultivated worldwide and are the most widely grown species in the genus Malus. The tree originated in Central Asia  where its wild ancestor  Malus sieversii  is still found today.\n",
      "\n",
      "Melaleuca lanceolata commonly known as black paperbark, moonah, Rottnest Island teatree and western black tea tree is a plant in the myrtle family, Myrtaceae and is native to Australia where it occurs in Western Australia, South Australia, Victoria, New South Wales and Queensland. It is a densely foliaged tree with rough bark, which flowers prolifically in summer. The flowers are white or cream coloured and arranged in spikes on the ends of branches which continue to grow after flowering, sometimes also in the upper leaf axils.\n",
      "\n",
      "A fast growing hardy shrub to around 2.5 metres high and wide  with a spectacular show of white flowers in late spring and summer. It has fine foliage and a papery furrowed grey trunk and a dense spreading habit. It is very tolerant of a wide range of conditions including not very well drained soils. Frost and drought tolerant.\n",
      "\n",
      "Melaleuca wilsonii  commonly known as Wilson's honey-myrtle or violet honey-myrtle  is a plant in the myrtle family  Myrtaceae  native to parts of South Australia and Victoria. It is a shrub with narrow  pointed leaves and heads of purplish-pink flowers on the sides of the branches. It is adaptable to a wide range of soils, frost hardy and often cultivated.\n",
      "\n",
      "White Cedar has the scientific name Melia azedarach L. and is also commonly known as Persian Lilac, Chinaberry and Umbrella Tree. The flowers are small with five pale purple and white petals. The flowers are often found growing in clusters. White Cedar is often planted as a shade tree because of its dense canopy. It is planted in parks, public gardens, stream banks and along footpaths or roadsides.\n",
      "\n",
      "Lemon balm (Melissa officinalis)  balm  common balm  or balm mint  is a perennial herbaceous plant in the mint family Lamiaceae. A hardy easy-to-grow perennial with a distinctive lemony fragrance when the leaves are bruised. Vigorous clump forming self-seeder that can be contained in a pot. The leaves have a wild lemon fragrance similar to mint. The leaves are used as a herb  in teas  and also as a flavouring. The plant is used to attract bees for honey production.\n",
      "\n",
      "Mentha piperita or Peppermint is a hardy  spreading perennial herb with pungent  oval  serrated  mid green to reddish foliage.A well-known herb long used as a refreshing, cooling flavour. A low-growing plant that has small pointed, dark-green leaves with a coarsely toothed margin and a purplish tinge to 9 x 4 cm. The leaves and stems are slightly hairy and the stems are square in section. The tiny purple flowers are arranged around the stem, a verticillaster or thick, blunt spike. Mints spread by rhizomes and can become a problem in gardens. To prevent spreading in the domestic garden, sink a bottomless container 45 cm into the ground and 5 cm above or plant above ground in pots.\n",
      "\n",
      "Mentha spicata or Spearmint is a hardy  fast growing  perennial herb with serrated  crinkled green foliage that is pungently fragrant and the most used mint in cooking. This hardy fast-growing perennial is rhizomatous and can be invasive. Its leaves grow to 9 x 3 cm and are a lighter green than those of peppermint. They are slightly crinkled, with a serrated margin and an acute tip. The many small white or pale pink flowers are arranged in slender spikes. The whole plant has a sweet smell.\n",
      "\n",
      "Myoporum parvifolium is bushy, prostrate shrub with a carpet-like appearance and small, spoon-shaped, linear leaves. Star shaped flowers of pale mauve, pink or white are borne singly or in clusters along the stems and have a waxy appearance and delicate honey scent. A great Australian native ground-cover that can handle drought and salt and is also a great spillover. It's also fire retardant and is useful for bank stabilisation.\n",
      "\n",
      "Catmint has upright branching stems with soft grey–green, hairy aromatic leaves and white (or pink or lavender) flowers in clusters along the ends of the stems in summer and autumn. Prune hard after flowering to maintain plant vigour.\n",
      "\n",
      "Oregano is a flowering plant in the mint family. It is native to temperate Western and Southwestern Eurasia and the Mediterranean region. Oregano is a perennial herb growing from 20–80 cm tall  with opposite leaves 1–4 cm long. The flowers are purple  3–4 mm long  produced in erect spikes.\n",
      "\n",
      "A short-lived  rapid growing  evergreen vine which supports itself with tendrils. It has glossy  bright green  3-lobed leaves  intricate  purple/white flowers and tough-skinned  flavoursome  globular  green fruit which ripen to purple. NB Will only fruit when growing horizontally.\n",
      "\n",
      "Pelargonium rodneyanum  commonly known as magenta storksbill  is a perennial herb species that is endemic to Australia. It grows to 40 cm high and has leaves with 5 to 7 shallow lobes. Dark pink flowers appear between October and February in the species native range\n",
      "\n",
      "This fruit-bearing tree has a dense  broad crown of large  glossy dark green leaves and an attractive silvery trunk. This is an evergreen tree that consistently sheds its leaves throughout the year  but still maintains a full canopy year round. The edible fruits  the Avocados  follow small inconspicuous green flowers\n",
      "\n",
      "Prunus cerasifera or the Black Cherry Plum is a classic, deciduous blossom tree that's distinctive because of its reddish/purple leaves and lovely pale shell pink blossoms. The leaves remain red/purple until late summer when they become blacker and more intense. Lovely fluffy blossoms are borne on short spurs on one and two year old branches.\n",
      "\n",
      "One of the best-known evergreen ornamentals, P. lusitanica is found in South Australia, Victoria and Tasmania. The bark is dark brown; the leathery, dark green, glossy leaves are up to 12 x 5 cm. The sweetly scented small white flowers have five petals and grow in upright spikes to 20 cm. Plant produces an inedible fruit that is a deep purple colour.\n",
      "\n",
      "Rosmarinus officinalis  commonly known as rosemary  is a woody  perennial herb with fragrant  evergreen  needle-like leaves and white  pink  purple  or blue flowers  native to the Mediterranean region. It is a member of the mint family Lamiaceae  which includes many other herbs.\n",
      "\n",
      "Rubus ideaus or the common Raspberry is a deciduous perennial shrub with smooth, brown, cane-like stems that can be quite prickly. It has serrated leaves and bears 5 petalled small white flowers which mature into red, or sometimes yellow, berries that are exquisitely succulent. This is the best berry fruit you'll ever grow - especially when eaten with a light cream and some caster sugar.\n",
      "\n",
      "S. verbenaca is a tall perennial herb with hairy stems and branches that erectly sprawl out. Its leaves are basal and toothed that vary from 3 to 10 cm (1.2 to 3.9 in) long. It has soft purple to violet flowers in mid summer. It is in flower from June to September, and the seeds ripen from July to October. The flowers are bisexual and are pollinated by bees.\n",
      "\n",
      "Scaeveola aemula is a spreading, prostrate, Australian native shrub that forms a dense mat-like cover of deep green foliage. Lovely fan-shaped mauve-blue (occasionally white) flowers are produced throughout the year, however the main flush is usually from spring to summer. This is a very hardy groundcover that will also attract nectar feeding birds\n",
      "\n",
      "Elegant evergreen tree from Queensland and NSW. Can tolerate a variety of urban locations and conditions. Can be used successfully under power lines. Can be grown as aliving fence or screen. Prefers moist well drained soils. Can be grown in large containers.\n",
      "\n",
      "The brightly coloured five-petalled  spurred flowers come in several forms and colours and are produced prolifically during late spring and summer  though they continue to produce lower volumes all year round. The plants may be trailing  non-trailing or climbers and the flowers may be single or double.\n",
      "\n"
     ]
    }
   ],
   "source": [
    "\n",
    "for i in range(1, len(dlist)):\n",
    "    print(dlist[i][9])\n",
    "    print(\"\")"
   ]
  },
  {
   "cell_type": "code",
   "execution_count": 24,
   "metadata": {},
   "outputs": [],
   "source": [
    "query = \"\"\"INSERT INTO bee_friendly_plants(rowid,Botanical_name,Common_name,Plant_type,Height,Width,Flower_colour,Flowering_Time,Pollinator,Information,Uses,Jan,Feb,Mar,Apr,May,Jun,Jul,Aug,Sep,Oct,Nov,December,Climate,Rainfall,Aspect,Soil) VALUES (%s, %s, %s, %s,%s, %s, %s, %s,%s, %s, %s, %s,%s, %s, %s, %s,%s, %s, %s, %s,%s, %s, %s, %s,%s, %s, %s)\"\"\""
   ]
  },
  {
   "cell_type": "code",
   "execution_count": 25,
   "metadata": {},
   "outputs": [],
   "source": [
    "cursor.execute(\"\"\"TRUNCATE TABLE bee_friendly_plants\"\"\")\n",
    "\n",
    "for i in range(1, len(dlist)):\n",
    "    rowid = dlist[i][0]\n",
    "    Botanical_name = dlist[i][1]\n",
    "    Common_name = dlist[i][2]\n",
    "    Plant_type = dlist[i][3]\n",
    "    Height = dlist[i][4]\n",
    "    Width = dlist[i][5]\n",
    "    Flower_colour = dlist[i][6]\n",
    "    Flowering_Time = dlist[i][7]\n",
    "    Pollinator = dlist[i][8]\n",
    "    Information = dlist[i][9]\n",
    "    Uses = dlist[i][10]\n",
    "    Jan = dlist[i][11]\n",
    "    Feb = dlist[i][12]\n",
    "    Mar = dlist[i][13]\n",
    "    Apr = dlist[i][14]\n",
    "    May = dlist[i][15]\n",
    "    Jun = dlist[i][16]\n",
    "    Jul = dlist[i][17]\n",
    "    Aug = dlist[i][18]\n",
    "    Sep = dlist[i][19]\n",
    "    Oct = dlist[i][20]\n",
    "    Nov = dlist[i][21]\n",
    "    December = dlist[i][22]\n",
    "    Climate = dlist[i][23]\n",
    "    Rainfall = dlist[i][24]\n",
    "    Aspect = dlist[i][25]\n",
    "    Soil = dlist[i][26]\n",
    "    \n",
    "    values = (rowid,Botanical_name,Common_name,Plant_type,Height,Width,Flower_colour,Flowering_Time,Pollinator,Information,Uses,Jan,Feb,Mar,Apr,May,Jun,Jul,Aug,Sep,Oct,Nov,December,Climate,Rainfall,Aspect,Soil)\n",
    "    \n",
    "    cursor.execute(query, values)\n",
    "    \n",
    "cursor.close()\n",
    "\n",
    "conn.commit()"
   ]
  },
  {
   "cell_type": "code",
   "execution_count": 26,
   "metadata": {},
   "outputs": [],
   "source": [
    "del dlist[0]"
   ]
  },
  {
   "cell_type": "code",
   "execution_count": 27,
   "metadata": {},
   "outputs": [
    {
     "name": "stdout",
     "output_type": "stream",
     "text": [
      "Total 27 columns and 66 rows were imported successfully\n"
     ]
    }
   ],
   "source": [
    "print(\"Total\" + \" \" + str(len(dlist[0])) + \" columns and \" + str(len(dlist))+ \" rows were imported successfully\")"
   ]
  },
  {
   "cell_type": "code",
   "execution_count": null,
   "metadata": {},
   "outputs": [],
   "source": []
  }
 ],
 "metadata": {
  "kernelspec": {
   "display_name": "Python 3",
   "language": "python",
   "name": "python3"
  },
  "language_info": {
   "codemirror_mode": {
    "name": "ipython",
    "version": 3
   },
   "file_extension": ".py",
   "mimetype": "text/x-python",
   "name": "python",
   "nbconvert_exporter": "python",
   "pygments_lexer": "ipython3",
   "version": "3.6.4"
  }
 },
 "nbformat": 4,
 "nbformat_minor": 2
}
