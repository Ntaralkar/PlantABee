{
 "cells": [
  {
   "cell_type": "code",
   "execution_count": 16,
   "metadata": {},
   "outputs": [],
   "source": [
    "import pymysql\n",
    "pymysql.install_as_MySQLdb()\n",
    "import MySQLdb\n",
    "import pymysql\n",
    "import MySQLdb\n",
    "import csv"
   ]
  },
  {
   "cell_type": "code",
   "execution_count": 17,
   "metadata": {},
   "outputs": [],
   "source": [
    "conn = MySQLdb.connect(host='www.plantabee.tk',\n",
    "                             user='root',\n",
    "                             password='Plantabee@monash',\n",
    "                             db='plantabee')"
   ]
  },
  {
   "cell_type": "code",
   "execution_count": 18,
   "metadata": {},
   "outputs": [],
   "source": [
    "cursor = conn.cursor()"
   ]
  },
  {
   "cell_type": "code",
   "execution_count": 19,
   "metadata": {},
   "outputs": [],
   "source": [
    "dlist = []\n",
    "with open(\"companion_planting.csv\", encoding='latin') as f:\n",
    "    data = csv.reader(f)\n",
    "    for row in data:\n",
    "        dlist.append(row)\n"
   ]
  },
  {
   "cell_type": "code",
   "execution_count": 26,
   "metadata": {
    "scrolled": true
   },
   "outputs": [
    {
     "name": "stdout",
     "output_type": "stream",
     "text": [
      "Sciencetific_name\n",
      "\n",
      "Asparagus officinalis\n",
      "\n",
      "Ocimum basilicum\n",
      "\n",
      "Beta Vulgaris\n",
      "\n",
      "Brassica oleracea var. italica\n",
      "\n",
      "Brassica oleracea cabbage\n",
      "\n",
      "Capsicum annum\n",
      "\n",
      "Daucus glochidiatus\n",
      "\n",
      "Brassica oleracea\n",
      "\n",
      "Apium graveolens\n",
      "\n",
      "Coriandrum sativum\n",
      "\n",
      "Cucumis sativus\n",
      "\n",
      "Solanum melongena\n",
      "\n",
      "Allium ampeloprasum\n",
      "\n",
      "Lactuca sativa\n",
      "\n",
      "Allium cepa\n",
      "\n",
      "Petroselinum crispum\n",
      "\n",
      "Pastinaca sativa\n",
      "\n",
      "Pisum sativum\n",
      "\n",
      "Solanum tuberosum\n",
      "\n",
      "Cucurbita\n",
      "\n",
      "Raphanus raphanistrum\n",
      "\n",
      "Rheum rhabarbarum\n",
      "\n",
      "Eruca vesicaria\n",
      "\n",
      "Beta vulgaris\n",
      "\n",
      "Spinacia oleracea\n",
      "\n",
      "Allium fistulosum\n",
      "\n",
      "Thymus vulgaris\n",
      "\n",
      "Lycopersicon esculentum\n",
      "\n",
      "Cucurbita pepo\n",
      "\n"
     ]
    }
   ],
   "source": [
    "\n",
    "for i in range(0, len(dlist)):\n",
    "    print(dlist[i][1])\n",
    "    print(\"\")"
   ]
  },
  {
   "cell_type": "code",
   "execution_count": 27,
   "metadata": {},
   "outputs": [],
   "source": [
    "query = \"\"\"INSERT INTO companion_planting(rowid,Sciencetific_name,PLANT,Plant_type,Description,Links,Sowing_Instructions,Space_bet_plants,harvestInstructions,Compatible,Avoid_Instructions,Height,Width,Soil,Maintenance,Aspect,Jan,Feb,Mar,Apr,May,Jun,July,Aug,Sep,Oct,Nov,December) VALUES (%s, %s, %s, %s,%s, %s, %s, %s,%s, %s, %s, %s,%s, %s, %s, %s,%s, %s, %s, %s,%s, %s, %s, %s,%s, %s, %s,%s)\"\"\""
   ]
  },
  {
   "cell_type": "code",
   "execution_count": 28,
   "metadata": {},
   "outputs": [],
   "source": [
    "cursor.execute(\"\"\"TRUNCATE TABLE companion_planting\"\"\")\n",
    "\n",
    "for i in range(1, len(dlist)):\n",
    "    rowid = dlist[i][0]\n",
    "    Sciencetific_name =dlist[i][1] \n",
    "    PLANT = dlist[i][2]\n",
    "    Plant_type = dlist[i][3]\n",
    "    Description = dlist[i][4]\n",
    "    Links = dlist[i][5]\n",
    "    Sowing_Instructions = dlist[i][6]\n",
    "    Space_bet_plants = dlist[i][7]\n",
    "    harvestInstructions = dlist[i][8]\n",
    "    Compatible = dlist[i][9]\n",
    "    Avoid_Instructions = dlist[i][10]\n",
    "    Height = dlist[i][11]\n",
    "    Width = dlist[i][12]\n",
    "    Soil = dlist[i][13]\n",
    "    Maintenance = dlist[i][14]\n",
    "    Aspect = dlist[i][15]\n",
    "    Jan = dlist[i][16]\n",
    "    Feb = dlist[i][17]\n",
    "    Mar = dlist[i][18]\n",
    "    Apr = dlist[i][19]\n",
    "    May = dlist[i][20]\n",
    "    Jun = dlist[i][21]\n",
    "    July = dlist[i][22]\n",
    "    Aug = dlist[i][23]\n",
    "    Sep = dlist[i][24]\n",
    "    Oct = dlist[i][25]\n",
    "    Nov = dlist[i][26]\n",
    "    December = dlist[i][27]\n",
    "\n",
    "    \n",
    "    values = (rowid,Sciencetific_name,PLANT,Plant_type,Description,Links,Sowing_Instructions,Space_bet_plants,harvestInstructions,Compatible,Avoid_Instructions,Height,Width,Soil,Maintenance,Aspect,Jan,Feb,Mar,Apr,May,Jun,July,Aug,Sep,Oct,Nov,December)\n",
    "    \n",
    "    cursor.execute(query, values)\n",
    "    \n",
    "cursor.close()\n",
    "\n",
    "conn.commit()"
   ]
  },
  {
   "cell_type": "code",
   "execution_count": 29,
   "metadata": {},
   "outputs": [],
   "source": [
    "del dlist[0]"
   ]
  },
  {
   "cell_type": "code",
   "execution_count": 30,
   "metadata": {},
   "outputs": [
    {
     "name": "stdout",
     "output_type": "stream",
     "text": [
      "Total 28 columns and 29 rows were imported successfully\n"
     ]
    }
   ],
   "source": [
    "print(\"Total\" + \" \" + str(len(dlist[0])) + \" columns and \" + str(len(dlist))+ \" rows were imported successfully\")"
   ]
  },
  {
   "cell_type": "code",
   "execution_count": null,
   "metadata": {},
   "outputs": [],
   "source": []
  }
 ],
 "metadata": {
  "kernelspec": {
   "display_name": "Python 3",
   "language": "python",
   "name": "python3"
  },
  "language_info": {
   "codemirror_mode": {
    "name": "ipython",
    "version": 3
   },
   "file_extension": ".py",
   "mimetype": "text/x-python",
   "name": "python",
   "nbconvert_exporter": "python",
   "pygments_lexer": "ipython3",
   "version": "3.6.4"
  }
 },
 "nbformat": 4,
 "nbformat_minor": 2
}
